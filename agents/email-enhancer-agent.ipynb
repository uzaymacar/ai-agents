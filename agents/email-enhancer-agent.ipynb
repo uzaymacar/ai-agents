{
  "cells": [
    {
      "cell_type": "markdown",
      "metadata": {
        "vscode": {
          "languageId": "raw"
        }
      },
      "source": [
        "# Email Enhancer Agent\n",
        "\n",
        "This is an agent that can compose professional emails with enhanced content and improved subject lines.\n",
        "\n",
        "This agent is built with smolagents using OpenAI's o4-mini model.\n",
        "\n",
        "It uses a 4-step workflow to research, improve, enhance, and compose emails.\n"
      ]
    },
    {
      "cell_type": "markdown",
      "metadata": {
        "vscode": {
          "languageId": "raw"
        }
      },
      "source": [
        "## 1. Setup\n",
        "Let's install the relevant packages.\n"
      ]
    },
    {
      "cell_type": "code",
      "execution_count": null,
      "metadata": {},
      "outputs": [
        {
          "ename": "",
          "evalue": "",
          "output_type": "error",
          "traceback": [
            "\u001b[1;31mRunning cells with 'Python 3.13.5' requires the ipykernel package.\n",
            "\u001b[1;31mRun the following command to install 'ipykernel' into the Python environment. \n",
            "\u001b[1;31mCommand: '/opt/homebrew/bin/python3 -m pip install ipykernel -U --user --force-reinstall'"
          ]
        }
      ],
      "source": [
        "%pip install --upgrade --quiet smolagents\n",
        "%pip install --upgrade --quiet duckduckgo_search\n",
        "%pip install --upgrade --quiet opentelemetry-api\n"
      ]
    },
    {
      "cell_type": "markdown",
      "metadata": {
        "vscode": {
          "languageId": "raw"
        }
      },
      "source": [
        "Let's import the necessary packages.\n"
      ]
    },
    {
      "cell_type": "code",
      "execution_count": null,
      "metadata": {},
      "outputs": [],
      "source": [
        "import os\n",
        "import time\n",
        "import uuid\n",
        "from typing import Dict, List, TypedDict, Annotated\n",
        "from smolagents import OpenAIServerModel, DuckDuckGoSearchTool\n",
        "from opentelemetry import trace\n",
        "\n"
      ]
    },
    {
      "cell_type": "markdown",
      "metadata": {
        "vscode": {
          "languageId": "raw"
        }
      },
      "source": [
        "## 2. Environment Variables\n",
        "\n",
        "Let's set the environment variables.\n"
      ]
    },
    {
      "cell_type": "code",
      "execution_count": null,
      "metadata": {},
      "outputs": [],
      "source": [
        "from helpers import _set_env\n",
        "\n",
        "_set_env(\"OPENAI_API_KEY\")"
      ]
    },
    {
      "cell_type": "markdown",
      "metadata": {
        "vscode": {
          "languageId": "raw"
        }
      },
      "source": [
        "## 3. LLM and Tools\n",
        "\n",
        "Let's initialize the LLM and tools that our agent will use.\n"
      ]
    },
    {
      "cell_type": "code",
      "execution_count": null,
      "metadata": {},
      "outputs": [],
      "source": [
        "# Initialize tracer\n",
        "tracer = trace.get_tracer(__name__)\n",
        "\n",
        "# Initialize the model\n",
        "llm = OpenAIServerModel(model_id=\"gpt-4o-mini\")\n",
        "search_tool = DuckDuckGoSearchTool()\n"
      ]
    },
    {
      "cell_type": "markdown",
      "metadata": {
        "vscode": {
          "languageId": "raw"
        }
      },
      "source": [
        "## 4. Helper Functions\n",
        "\n",
        "Let's define helper functions for email composition and formatting.\n"
      ]
    },
    {
      "cell_type": "code",
      "execution_count": 5,
      "metadata": {},
      "outputs": [],
      "source": [
        "def get_email_style(email_type: str, recipient: str, signature_name: str) -> Dict[str, str]:\n",
        "    \"\"\"Get email style configuration based on type.\"\"\"\n",
        "    email_styles = {\n",
        "        \"formal\": {\n",
        "            \"greeting\": f\"Dear {recipient},\",\n",
        "            \"closing\": f\"Kind regards,\\n{signature_name}\",\n",
        "            \"tone\": \"formal and professional\"\n",
        "        },\n",
        "        \"informal\": {\n",
        "            \"greeting\": f\"Hi {recipient},\",\n",
        "            \"closing\": f\"Best,\\n{signature_name}\",\n",
        "            \"tone\": \"friendly and casual\"\n",
        "        },\n",
        "        \"small\": {\n",
        "            \"greeting\": f\"Hello {recipient},\",\n",
        "            \"closing\": f\"Kind regards,\\n{signature_name}\",\n",
        "            \"tone\": \"concise and direct\"\n",
        "        }\n",
        "    }\n",
        "    return email_styles.get(email_type.lower(), email_styles[\"formal\"])\n",
        "\n",
        "def format_final_email(subject: str, greeting: str, content: str, closing: str) -> str:\n",
        "    \"\"\"Format the final email with proper structure.\"\"\"\n",
        "    return f\"\"\"Subject: {subject}\n",
        "\n",
        "{greeting}\n",
        "\n",
        "{content}\n",
        "\n",
        "{closing}\n",
        "\"\"\"\n"
      ]
    },
    {
      "cell_type": "markdown",
      "metadata": {
        "vscode": {
          "languageId": "raw"
        }
      },
      "source": [
        "## 5. Nodes\n",
        "\n",
        "Let's define the nodes that our agent will use.\n"
      ]
    },
    {
      "cell_type": "code",
      "execution_count": 6,
      "metadata": {},
      "outputs": [],
      "source": [
        "def research_context(state):\n",
        "    \"\"\"Node to research email context and best practices.\"\"\"\n",
        "    email_details = state[\"email_details\"]\n",
        "    \n",
        "    print(\"🔍: Researching email best practices...\")\n",
        "    \n",
        "    # Research email best practices for the specific type and topic\n",
        "    research_query = f\"{email_details['email_type']} email best practices {email_details['subject']} professional writing\"\n",
        "    research_results = search_tool(research_query)\n",
        "    \n",
        "    print(f\"🔍: Research completed for {email_details['email_type']} email about '{email_details['subject']}'\")\n",
        "    \n",
        "    return {\"email_details\": email_details, \"research_data\": research_results}\n",
        "\n",
        "def improve_subject(state):\n",
        "    \"\"\"Node to improve the email subject line.\"\"\"\n",
        "    email_details = state[\"email_details\"]\n",
        "    research_data = state[\"research_data\"]\n",
        "    \n",
        "    print(\"📝: Improving subject line...\")\n",
        "    \n",
        "    # Create a prompt to improve the subject line\n",
        "    subject_prompt = f\"\"\"\n",
        "    Based on this research data: {research_data[:500]}...\n",
        "    \n",
        "    Improve this email subject line to be more professional and appropriate for a {email_details['email_type']} email:\n",
        "    Original subject: \"{email_details['subject']}\"\n",
        "    \n",
        "    Make it:\n",
        "    - Professional and clear\n",
        "    - Appropriate for {email_details['email_type']} communication\n",
        "    - Action-oriented if needed\n",
        "    - Specific and informative\n",
        "    \n",
        "    Return only the improved subject line, nothing else.\n",
        "    \"\"\"\n",
        "    \n",
        "    # Use the model to improve the subject\n",
        "    improved_subject = llm([{\"role\": \"user\", \"content\": subject_prompt}]).content.strip()\n",
        "    \n",
        "    print(f\"📝: Subject improved: '{improved_subject}'\")\n",
        "    \n",
        "    return {\n",
        "        \"email_details\": email_details,\n",
        "        \"research_data\": research_data,\n",
        "        \"improved_subject\": improved_subject\n",
        "    }\n",
        "\n",
        "def enhance_content(state):\n",
        "    \"\"\"Node to enhance the email content.\"\"\"\n",
        "    email_details = state[\"email_details\"]\n",
        "    research_data = state[\"research_data\"]\n",
        "    improved_subject = state[\"improved_subject\"]\n",
        "    \n",
        "    print(\"✨: Enhancing email content...\")\n",
        "    \n",
        "    content_prompt = f\"\"\"\n",
        "    Based on this research: {research_data[:500]}...\n",
        "    \n",
        "    Enhance this email content for a {email_details['email_type']} email:\n",
        "    Original content: \"{email_details['main_content']}\"\n",
        "    \n",
        "    Make it:\n",
        "    - More polished and professional\n",
        "    - Better grammar and structure\n",
        "    - Appropriate tone for {email_details['email_type']} communication\n",
        "    - Clear and effective\n",
        "    - Engaging and well-structured\n",
        "    \n",
        "    Return only the enhanced content, nothing else.\n",
        "    \"\"\"\n",
        "    \n",
        "    enhanced_content = llm([{\"role\": \"user\", \"content\": content_prompt}]).content.strip()\n",
        "    \n",
        "    print(\"✨: Content enhanced with better grammar and structure\")\n",
        "    \n",
        "    return {\n",
        "        \"email_details\": email_details,\n",
        "        \"research_data\": research_data,\n",
        "        \"improved_subject\": improved_subject,\n",
        "        \"enhanced_content\": enhanced_content\n",
        "    }\n",
        "\n",
        "def compose_final_email(state):\n",
        "    \"\"\"Node to compose the final email.\"\"\"\n",
        "    email_details = state[\"email_details\"]\n",
        "    improved_subject = state[\"improved_subject\"]\n",
        "    enhanced_content = state[\"enhanced_content\"]\n",
        "    \n",
        "    print(\"📧: Composing final email...\")\n",
        "    \n",
        "    # Get email style\n",
        "    style = get_email_style(\n",
        "        email_details[\"email_type\"],\n",
        "        email_details[\"recipient\"],\n",
        "        email_details[\"signature_name\"]\n",
        "    )\n",
        "    \n",
        "    # Compose the final email\n",
        "    final_email = format_final_email(\n",
        "        improved_subject,\n",
        "        style[\"greeting\"],\n",
        "        enhanced_content,\n",
        "        style[\"closing\"]\n",
        "    )\n",
        "    \n",
        "    print(f\"📧: Final email composed in {style['tone']} style\")\n",
        "    \n",
        "    return {\n",
        "        \"email_details\": email_details,\n",
        "        \"research_data\": state[\"research_data\"],\n",
        "        \"improved_subject\": improved_subject,\n",
        "        \"enhanced_content\": enhanced_content,\n",
        "        \"final_email\": final_email\n",
        "    }\n"
      ]
    },
    {
      "cell_type": "markdown",
      "metadata": {
        "vscode": {
          "languageId": "raw"
        }
      },
      "source": [
        "## 6. Workflow Setup\n",
        "\n",
        "Let's define the state and the workflow that our agent will use.\n",
        "\n",
        "The workflow defines how our agent processes emails:\n",
        "\n",
        "1. Research email best practices\n",
        "2. Improve the subject line\n",
        "3. Enhance the content\n",
        "4. Compose the final email\n",
        "\n",
        "This uses a simple sequential workflow to manage state transitions between different processing nodes.\n"
      ]
    },
    {
      "cell_type": "code",
      "execution_count": 7,
      "metadata": {},
      "outputs": [],
      "source": [
        "class EmailState(TypedDict):\n",
        "    email_details: Dict[str, str]\n",
        "    research_data: str\n",
        "    improved_subject: str\n",
        "    enhanced_content: str\n",
        "    final_email: str\n",
        "\n",
        "def execute_email_workflow(email_details: Dict[str, str]) -> Dict[str, str]:\n",
        "    \"\"\"Execute the complete email writing workflow\"\"\"\n",
        "    \n",
        "    print(\"🚀 Starting Gmail Writing Workflow\")\n",
        "    print(\"=\" * 50)\n",
        "    \n",
        "    # Initialize state\n",
        "    state = {\n",
        "        \"email_details\": email_details,\n",
        "        \"research_data\": \"\",\n",
        "        \"improved_subject\": \"\",\n",
        "        \"enhanced_content\": \"\",\n",
        "        \"final_email\": \"\"\n",
        "    }\n",
        "    \n",
        "    # Execute workflow steps in sequence\n",
        "    try:\n",
        "        start_time = time.time()\n",
        "        \n",
        "        # Step 1: Research context\n",
        "        state = research_context(state)\n",
        "        \n",
        "        # Step 2: Improve subject\n",
        "        state = improve_subject(state)\n",
        "        \n",
        "        # Step 3: Enhance content\n",
        "        state = enhance_content(state)\n",
        "        \n",
        "        # Step 4: Compose final email\n",
        "        state = compose_final_email(state)\n",
        "        \n",
        "        end_time = time.time()\n",
        "        execution_time = end_time - start_time\n",
        "        \n",
        "        print(f\"\\n🎉 Workflow completed successfully in {execution_time:.2f} seconds!\")\n",
        "        return state\n",
        "        \n",
        "    except Exception as e:\n",
        "        print(f\"❌ Workflow failed: {e}\")\n",
        "        return state\n"
      ]
    },
    {
      "cell_type": "markdown",
      "metadata": {
        "vscode": {
          "languageId": "raw"
        }
      },
      "source": [
        "## 7. Run the agent\n",
        "\n",
        "Let's now run the agent. The user has to input email details and the agent will provide a professionally composed email.\n"
      ]
    },
    {
      "cell_type": "code",
      "execution_count": null,
      "metadata": {},
      "outputs": [],
      "source": [
        "print(\"📧: Hi there. I can compose professional Gmail emails with enhanced content and improved subject lines. Let's start!\")\n",
        "\n",
        "# Email type selection\n",
        "email_types = {\n",
        "    \"1\": \"formal\",\n",
        "    \"2\": \"informal\", \n",
        "    \"3\": \"small\"\n",
        "}\n",
        "\n",
        "print(\"\\n📝 Email Types:\")\n",
        "print(\"1. Formal - Professional business emails\")\n",
        "print(\"2. Informal - Casual friendly emails\")\n",
        "print(\"3. Small - Concise direct emails\")\n",
        "\n",
        "# Get user choice for email type\n",
        "while True:\n",
        "    choice = input(\"\\n👤 Choose email type (1-3): \").strip()\n",
        "    if choice in email_types:\n",
        "        email_type = email_types[choice]\n",
        "        print(f\"✅ Selected: {email_type.title()} email\")\n",
        "        break\n",
        "    else:\n",
        "        print(\"❌ Invalid choice. Please enter 1, 2, or 3\")\n",
        "\n",
        "# Get email details\n",
        "print(\"\\n📋 Email Details:\")\n",
        "recipient = input(\"👤 Recipient name/email: \")\n",
        "subject = input(\"📄 Email subject: \")\n",
        "main_content = input(\"✍️ Main message content: \")\n",
        "signature_name = input(\"✒️ Your name for signature: \")\n",
        "\n",
        "# Create email details dictionary\n",
        "email_details = {\n",
        "    \"email_type\": email_type,\n",
        "    \"recipient\": recipient,\n",
        "    \"subject\": subject,\n",
        "    \"main_content\": main_content,\n",
        "    \"signature_name\": signature_name\n",
        "}\n",
        "\n",
        "# Execute workflow\n",
        "result = execute_email_workflow(email_details)\n",
        "\n",
        "print(\"\\n📧:\", result[\"final_email\"])\n"
      ]
    },
    {
      "cell_type": "markdown",
      "metadata": {},
      "source": [
        "📧: Hi there. I can compose professional Gmail emails with enhanced content and improved subject lines. Let's start!\n",
        "\n",
        "📝 Email Types:\n",
        "1. Formal - Professional business emails\n",
        "2. Informal - Casual friendly emails\n",
        "3. Small - Concise direct emails"
      ]
    },
    {
      "cell_type": "markdown",
      "metadata": {
        "vscode": {
          "languageId": "raw"
        }
      },
      "source": [
        "## 8. Analytics and metrics\n",
        "\n",
        "Let's now review the execution metrics for our agent run.\n"
      ]
    },
    {
      "cell_type": "code",
      "execution_count": null,
      "metadata": {},
      "outputs": [],
      "source": [
        "# Simple analytics for the workflow\n",
        "def analyze_workflow_performance(result: Dict[str, str]):\n",
        "    \"\"\"Analyze the workflow performance\"\"\"\n",
        "    \n",
        "    email_details = result[\"email_details\"]\n",
        "    \n",
        "    print(\"📊 Workflow Analytics:\")\n",
        "    print(\"=\" * 30)\n",
        "    print(f\"Email Type: {email_details['email_type']}\")\n",
        "    print(f\"Original Subject Length: {len(email_details['subject'])} chars\")\n",
        "    print(f\"Improved Subject Length: {len(result['improved_subject'])} chars\")\n",
        "    print(f\"Original Content Length: {len(email_details['main_content'])} chars\")\n",
        "    print(f\"Enhanced Content Length: {len(result['enhanced_content'])} chars\")\n",
        "    print(f\"Research Data Length: {len(result['research_data'])} chars\")\n",
        "    \n",
        "    # Improvement metrics\n",
        "    subject_improvement = len(result['improved_subject']) - len(email_details['subject'])\n",
        "    content_improvement = len(result['enhanced_content']) - len(email_details['main_content'])\n",
        "    \n",
        "    print(f\"\\n📈 Improvements:\")\n",
        "    print(f\"Subject Enhancement: {'+' if subject_improvement > 0 else ''}{subject_improvement} chars\")\n",
        "    print(f\"Content Enhancement: {'+' if content_improvement > 0 else ''}{content_improvement} chars\")\n",
        "    \n",
        "    print(f\"\\n🎯 Quality Metrics:\")\n",
        "    print(f\"Research Quality: {'High' if len(result['research_data']) > 1000 else 'Medium' if len(result['research_data']) > 500 else 'Low'}\")\n",
        "    print(f\"Content Expansion: {content_improvement / len(email_details['main_content']) * 100:.1f}%\")\n",
        "\n",
        "# Run analytics on the result\n",
        "analyze_workflow_performance(result)\n"
      ]
    }
  ],
  "metadata": {
    "kernelspec": {
      "display_name": "Python 3",
      "language": "python",
      "name": "python3"
    },
    "language_info": {
      "codemirror_mode": {
        "name": "ipython",
        "version": 3
      },
      "file_extension": ".py",
      "mimetype": "text/x-python",
      "name": "python",
      "nbconvert_exporter": "python",
      "pygments_lexer": "ipython3",
      "version": "3.13.5"
    }
  },
  "nbformat": 4,
  "nbformat_minor": 2
}
