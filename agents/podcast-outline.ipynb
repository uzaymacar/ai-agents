{
 "cells": [
  {
   "cell_type": "markdown",
   "metadata": {},
   "source": [
    "Base imports."
   ]
  },
  {
   "cell_type": "code",
   "execution_count": 26,
   "metadata": {},
   "outputs": [],
   "source": [
    "import os\n",
    "import json\n",
    "import pandas as pd\n",
    "from pprint import pprint\n",
    "from IPython.display import Markdown\n",
    "\n",
    "from helpers import _set_env\n",
    "_set_env(\"OPENAI_API_KEY\")\n",
    "_set_env(\"ANTHROPIC_API_KEY\")\n",
    "_set_env(\"TAVILY_API_KEY\")\n",
    "_set_env(\"LANGCHAIN_API_KEY\")\n",
    "_set_env(\"LINKEDIN_COOKIE_LI_AT\")\n",
    "_set_env(\"LINKEDIN_COOKIE_JSESSIONID\")\n",
    "\n",
    "import warnings\n",
    "warnings.filterwarnings('ignore')\n",
    "\n",
    "agent_name = \"podcast_outline\"\n",
    "collected_data_dir = f\"../collected_data/{agent_name}\"\n",
    "os.makedirs(collected_data_dir, exist_ok=True)\n",
    "base_data_dir = f\"../base_data/{agent_name}\"\n",
    "os.makedirs(base_data_dir, exist_ok=True)"
   ]
  },
  {
   "cell_type": "markdown",
   "metadata": {},
   "source": [
    "Import CrewAI, tools, and LLM / AI agent-related dependencies."
   ]
  },
  {
   "cell_type": "code",
   "execution_count": 2,
   "metadata": {},
   "outputs": [],
   "source": [
    "from crewai import Agent, Task, Crew, LLM\n",
    "from crewai.tools import BaseTool\n",
    "from crewai_tools import FileReadTool, ScrapeWebsiteTool, YoutubeVideoSearchTool\n",
    "from langchain_community.tools.tavily_search import TavilySearchResults\n",
    "from pydantic import BaseModel, Field\n",
    "from typing import Optional"
   ]
  },
  {
   "cell_type": "markdown",
   "metadata": {},
   "source": [
    "Initialize the LLM to be used. \n",
    "\n",
    "*NOTE: Later you can customize or use different LLMs for each agent or task.*"
   ]
  },
  {
   "cell_type": "code",
   "execution_count": 3,
   "metadata": {},
   "outputs": [],
   "source": [
    "llm = LLM(model=\"anthropic/claude-3-5-sonnet-20241022\", temperature=1.0)"
   ]
  },
  {
   "cell_type": "markdown",
   "metadata": {},
   "source": [
    "Connect to LinkedIn API."
   ]
  },
  {
   "cell_type": "code",
   "execution_count": 4,
   "metadata": {},
   "outputs": [],
   "source": [
    "with open(\"../linkedin_credentials.json\", \"r\") as f:\n",
    "    credentials = json.load(f)\n",
    "\n",
    "from requests.cookies import cookiejar_from_dict\n",
    "cookies = cookiejar_from_dict({\n",
    "    \"liap\": \"true\",\n",
    "    \"li_at\": os.environ[\"LINKEDIN_COOKIE_LI_AT\"],\n",
    "    \"JSESSIONID\": os.environ[\"LINKEDIN_COOKIE_JSESSIONID\"],\n",
    "})\n",
    "\n",
    "from linkedin_api import Linkedin\n",
    "linkedin = Linkedin(credentials[\"username\"], credentials[\"password\"], cookies=cookies)"
   ]
  },
  {
   "cell_type": "markdown",
   "metadata": {},
   "source": [
    "Instantiate tools."
   ]
  },
  {
   "cell_type": "code",
   "execution_count": 7,
   "metadata": {},
   "outputs": [],
   "source": [
    "file_read_tool = FileReadTool()\n",
    "scrape_website_tool = ScrapeWebsiteTool()\n",
    "youtube_video_search_tool = YoutubeVideoSearchTool()"
   ]
  },
  {
   "cell_type": "markdown",
   "metadata": {},
   "source": [
    "Create custom tool for Tavily search -- this is supposed to work better than Serper API and other search tools as it's LLM-tailored."
   ]
  },
  {
   "cell_type": "code",
   "execution_count": 8,
   "metadata": {},
   "outputs": [],
   "source": [
    "class WebSearchTool(BaseTool):\n",
    "    name: str =\"Web Search Tool\"\n",
    "    description: str = \"Search the web for current information on a given topic or person\"\n",
    "        \n",
    "    def _run(self, query: str, max_results: Optional[int] = 10) -> str:\n",
    "        # Perform the search\n",
    "        search_client = TavilySearchResults(max_results=max_results)\n",
    "        search_results = search_client.invoke(query)\n",
    "        \n",
    "        # Format the results\n",
    "        formatted_results = []\n",
    "        for doc in search_results:\n",
    "            formatted_doc = f\"URL: {doc['url']}\\n\"\n",
    "            formatted_doc += f\"Content: {doc['content']}\\n\"\n",
    "            formatted_results.append(formatted_doc)\n",
    "            \n",
    "        return \"\\n---\\n\".join(formatted_results)"
   ]
  },
  {
   "cell_type": "code",
   "execution_count": 9,
   "metadata": {},
   "outputs": [],
   "source": [
    "web_search_tool = WebSearchTool()"
   ]
  },
  {
   "cell_type": "markdown",
   "metadata": {},
   "source": [
    "Create agents."
   ]
  },
  {
   "cell_type": "code",
   "execution_count": 27,
   "metadata": {},
   "outputs": [],
   "source": [
    "# Create the researcher agent\n",
    "local_researcher = Agent(\n",
    "    role='Senior Podcast Guest Researcher (Local)',\n",
    "    goal='Thoroughly research the guest to understand their expertise, background, and recent work',\n",
    "    backstory=\"\"\"You are an expert podcast researcher who excels at finding and synthesizing \n",
    "    information about podcast guests. You analyze their background, work, and LinkedIn profiles and posts\n",
    "    to understand their unique perspectives and contributions to the specific topic of the podcast.\"\"\",\n",
    "    tools=[file_read_tool],\n",
    "    llm=llm,\n",
    "    allow_delegation=False,\n",
    "    verbose=True,\n",
    ")\n",
    "\n",
    "# Create the researcher agent with web search tool\n",
    "online_researcher = Agent(\n",
    "    role='Senior Podcast Guest Researcher (Online)',\n",
    "    goal='Thoroughly research the guest to understand their expertise, background, and recent work',\n",
    "    backstory=\"\"\"You are an expert podcast researcher who excels at finding and synthesizing \n",
    "    online information about podcast guests. You analyze their background, work, and online presence\n",
    "    to understand their unique perspectives and contributions to the specific topic of the podcast.\"\"\",\n",
    "    tools=[web_search_tool],\n",
    "    llm=llm,\n",
    "    allow_delegation=False,\n",
    "    verbose=True,\n",
    ")\n",
    "\n",
    "# Create the outline writer agent\n",
    "outline_writer = Agent(\n",
    "    role='Senior Podcast Outline Writer',\n",
    "    goal='Create engaging, personalized podcast outlines that highlight the guest\\'s expertise',\n",
    "    backstory=\"\"\"You are an experienced podcast producer who knows how to structure \n",
    "    compelling conversations. You excel at creating outlines that flow naturally and \n",
    "    bring out the best in each guest.\"\"\",\n",
    "    tools=[file_read_tool],\n",
    "    llm=llm,\n",
    "    allow_delegation=False,\n",
    "    verbose=True\n",
    ")"
   ]
  },
  {
   "cell_type": "markdown",
   "metadata": {},
   "source": [
    "Create the tasks."
   ]
  },
  {
   "cell_type": "code",
   "execution_count": 28,
   "metadata": {},
   "outputs": [],
   "source": [
    "local_research_task = Task(\n",
    "    description=\"\"\"\n",
    "    You are researching the podcast guest {guest_name} for the podcast {podcast_name}.\n",
    "    The podcast description is as follows: {podcast_description}.\n",
    "    \n",
    "    First, read the following document to understand the podcast's purpose and structure: {podcast_introduction_filepath}.\n",
    "    \n",
    "    Then read more about the guest {guest_name} using the following documents (using the file_read_tool):\n",
    "    {guest_linkedin_profile_filepath}\n",
    "    {guest_linkedin_posts_filepath}\n",
    "    \n",
    "    Focus on:\n",
    "    1. Their professional background and expertise in relation to the podcast's topic\n",
    "    2. Recent projects, achievements, startups, products, and services related to the podcast's topic\n",
    "    3. Their thought leadership and key ideas related to the podcast's topic\n",
    "    4. Any unique perspectives or experiences they bring related to the podcast's topic\n",
    "    \n",
    "    VERY IMPORTANT: When you're compiling your findings, \n",
    "    MAKE SURE TO GIVE MORE IMPORTANCE TO RECENT FINDINGS. For example, if the guest has a recent project, \n",
    "    make sure to give more importance to that project. If you focus on the guest's project from 10 years ago that\n",
    "    is discontinued, it's not useful.\n",
    "    \n",
    "    Compile your findings into a comprehensive research summary.\"\"\",\n",
    "    expected_output=\"\"\"A detailed research summary containing:\n",
    "    1. Professional background and current role\n",
    "    2. Key achievements and notable projects\n",
    "    3. Areas of expertise and thought leadership\n",
    "    4. Recent activities and public presence\n",
    "    5. Unique perspectives or specialized knowledge\n",
    "    \n",
    "    The summary should combine information from provided documents,\n",
    "    ensuring all facts are verified and relevant to podcast discussion topics.\"\"\",\n",
    "    agent=local_researcher,\n",
    ")\n",
    "\n",
    "online_research_task = Task(\n",
    "    description=\"\"\"\n",
    "    You are researching the podcast guest {guest_name} for the podcast {podcast_name}.\n",
    "    The podcast description is as follows: {podcast_description}.\n",
    "    \n",
    "    Using the web_search_tool, find relevant information online about the guest {guest_name}. \n",
    "    To tailor the search query, use the following information: {guest_details}.\n",
    "    \n",
    "    Focus on:\n",
    "    1. Their professional background and expertise in relation to the podcast's topic\n",
    "    2. Recent projects, achievements, startups, products, and services related to the podcast's topic\n",
    "    3. Their thought leadership and key ideas related to the podcast's topic\n",
    "    4. Any unique perspectives or experiences they bring related to the podcast's topic\n",
    "    \n",
    "    VERY IMPORTANT: When you're compiling your findings, \n",
    "    MAKE SURE TO GIVE MORE IMPORTANCE TO RECENT FINDINGS. For example, if the guest has a recent project, \n",
    "    make sure to give more importance to that project. If you focus on the guest's project from 10 years ago that\n",
    "    is discontinued, it's not useful.\n",
    "    \n",
    "    Compile your findings into a comprehensive research summary.\"\"\",\n",
    "    expected_output=\"\"\"A detailed research summary containing:\n",
    "    1. Professional background and current role\n",
    "    2. Key achievements and notable projects\n",
    "    3. Areas of expertise and thought leadership\n",
    "    4. Recent activities and public presence\n",
    "    5. Unique perspectives or specialized knowledge\n",
    "    \n",
    "    The summary should combine information from provided information and web research,\n",
    "    ensuring all facts are verified and relevant to podcast discussion topics.\"\"\",\n",
    "    agent=online_researcher,\n",
    ")\n",
    "\n",
    "outline_task = Task(\n",
    "    description=\"\"\"\n",
    "    You are writing the podcast outline for guest {guest_name} for the podcast {podcast_name}.\n",
    "    The podcast description is as follows: {podcast_description}.\n",
    "    \n",
    "    First, read the following document to understand the podcast's purpose and structure: {podcast_introduction_filepath}.\n",
    "    \n",
    "    Then using the research provided by the Senior Podcast Guest Researcher, create a one-pager podcast outline that:\n",
    "    1. Starts with a note encouraging the guest to edit the document\n",
    "    2. Includes a 2-3 sentence introduction about the guest\n",
    "    3. Suggests 4-5 relevant segments tailored to the guest's expertise\n",
    "    4. Provides brief descriptions and specific questions for each segment\n",
    "    \n",
    "    The outline should be conversational, engaging, and specifically tailored to the guest's \n",
    "    background and expertise. Ensure questions are clear and accessible.\"\"\",\n",
    "    expected_output=\"\"\"A structured podcast outline document containing:\n",
    "    1. An opening note inviting guest feedback\n",
    "    2. A concise guest introduction\n",
    "    3. 4-5 clearly defined podcast segments\n",
    "    4. Specific questions and talking points for each segment\n",
    "    \n",
    "    The outline should be personalized to the guest's expertise and maintain\n",
    "    an engaging, conversational flow suitable for a podcast format.\"\"\",\n",
    "    agent=outline_writer,\n",
    ")"
   ]
  },
  {
   "cell_type": "markdown",
   "metadata": {},
   "source": [
    "Create the crew."
   ]
  },
  {
   "cell_type": "code",
   "execution_count": null,
   "metadata": {},
   "outputs": [],
   "source": [
    "local_podcast_crew = Crew(\n",
    "    agents=[local_researcher, outline_writer],\n",
    "    tasks=[local_research_task, outline_task],\n",
    "    verbose=True,\n",
    "    memory=True,\n",
    ")\n",
    "\n",
    "online_podcast_crew = Crew(\n",
    "    agents=[online_researcher, outline_writer],\n",
    "    tasks=[online_research_task, outline_task],\n",
    "    verbose=True,\n",
    "    memory=True,\n",
    ")"
   ]
  },
  {
   "cell_type": "markdown",
   "metadata": {},
   "source": [
    "Execute the crew."
   ]
  },
  {
   "cell_type": "code",
   "execution_count": 20,
   "metadata": {},
   "outputs": [],
   "source": [
    "profile_id = \"<PROFILE_ID>\"\n",
    "profile = linkedin.get_profile(profile_id)\n",
    "posts = linkedin.get_profile_posts(profile_id, post_count=100)"
   ]
  },
  {
   "cell_type": "code",
   "execution_count": null,
   "metadata": {},
   "outputs": [],
   "source": [
    "# Specifying the fields that are essential for posts (semantic content) -- otherwise it brings too much noisy metadata.\n",
    "essential_post_fields = [\n",
    "    'commentary.text.text',  # The actual post text written by the author\n",
    "    'resharedUpdate.commentary.text.text',  # Text from reshared posts\n",
    "    'actor.name.text',  # Author's name\n",
    "    'resharedUpdate.actor.name.text',  # Name of original poster if reshared\n",
    "    'actor.subDescription.text',  # Post timing (e.g., \"4h • Edited\")\n",
    "]\n",
    "\n",
    "os.makedirs(f\"{collected_data_dir}/{profile_id}\", exist_ok=True)\n",
    "df_profile = pd.json_normalize(profile).T\n",
    "df_profile.to_csv(f\"{collected_data_dir}/{profile_id}/linkedin_profile.csv\")\n",
    "try:\n",
    "    df_posts = pd.json_normalize(posts)[essential_post_fields].T\n",
    "    df_posts.to_csv(f\"{collected_data_dir}/{profile_id}/linkedin_posts.csv\")\n",
    "except Exception as e:\n",
    "    print(f\"Error processing posts (maybe there are no posts): {e}\")\n",
    "    df_posts = pd.DataFrame()"
   ]
  },
  {
   "cell_type": "code",
   "execution_count": null,
   "metadata": {},
   "outputs": [],
   "source": [
    "inputs = {\n",
    "    \"podcast_name\": \"<PODCAST_NAME>\",\n",
    "    \"podcast_description\": \"<PODCAST_DESCRIPTION>\",\n",
    "    \"guest_name\": \"<GUEST_NAME>\",\n",
    "    \"guest_details\": \"<GUEST_DETAILS>\",\n",
    "    \"podcast_introduction_filepath\": f\"{base_data_dir}/podcast_introduction.txt\",\n",
    "    \"guest_linkedin_profile_filepath\": f\"{collected_data_dir}/{profile_id}/linkedin_profile.csv\",\n",
    "    \"guest_linkedin_posts_filepath\": f\"{collected_data_dir}/{profile_id}/linkedin_posts.csv\",\n",
    "}\n",
    "\n",
    "result = local_podcast_crew.kickoff(inputs=inputs)"
   ]
  },
  {
   "cell_type": "code",
   "execution_count": null,
   "metadata": {},
   "outputs": [],
   "source": [
    "Markdown(result.raw)"
   ]
  },
  {
   "cell_type": "code",
   "execution_count": null,
   "metadata": {},
   "outputs": [],
   "source": [
    "result = online_podcast_crew.kickoff(inputs=inputs)"
   ]
  },
  {
   "cell_type": "code",
   "execution_count": null,
   "metadata": {},
   "outputs": [],
   "source": [
    "Markdown(result.raw)"
   ]
  }
 ],
 "metadata": {
  "kernelspec": {
   "display_name": "Python 3",
   "language": "python",
   "name": "python3"
  },
  "language_info": {
   "codemirror_mode": {
    "name": "ipython",
    "version": 3
   },
   "file_extension": ".py",
   "mimetype": "text/x-python",
   "name": "python",
   "nbconvert_exporter": "python",
   "pygments_lexer": "ipython3",
   "version": "3.11.0"
  }
 },
 "nbformat": 4,
 "nbformat_minor": 2
}
