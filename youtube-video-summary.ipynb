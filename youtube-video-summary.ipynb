{
 "cells": [
  {
   "cell_type": "markdown",
   "metadata": {},
   "source": [
    "# YouTube Video Summary\n",
    "\n",
    "This is an agent that can provide a summary of the latest YouTube videos on a specific topic.\n",
    "\n",
    "This agent is built with [LangGraph](https://langchain-ai.github.io/langgraph/) and [LangChain](https://python.langchain.com/docs/introduction/) using Claude 3.5 Sonnet.\n",
    "\n",
    "It also uses [LangSmith](https://docs.smith.langchain.com/) to track the execution of the agent."
   ]
  },
  {
   "cell_type": "markdown",
   "metadata": {},
   "source": [
    "## 1. Setup"
   ]
  },
  {
   "cell_type": "markdown",
   "metadata": {},
   "source": [
    "Let's install the relevant LangGraph and LangChain packages."
   ]
  },
  {
   "cell_type": "code",
   "execution_count": 14,
   "metadata": {},
   "outputs": [
    {
     "name": "stdout",
     "output_type": "stream",
     "text": [
      "Note: you may need to restart the kernel to use updated packages.\n",
      "Note: you may need to restart the kernel to use updated packages.\n",
      "Note: you may need to restart the kernel to use updated packages.\n",
      "Note: you may need to restart the kernel to use updated packages.\n",
      "\u001b[31mERROR: pip's dependency resolver does not currently take into account all the packages that are installed. This behaviour is the source of the following dependency conflicts.\n",
      "embedchain 0.1.126 requires langsmith<0.2.0,>=0.1.17, but you have langsmith 0.3.7 which is incompatible.\u001b[0m\u001b[31m\n",
      "\u001b[0mNote: you may need to restart the kernel to use updated packages.\n"
     ]
    }
   ],
   "source": [
    "%pip install --upgrade --quiet  langchain-community\n",
    "%pip install --upgrade --quiet  langchain-core\n",
    "%pip install --upgrade --quiet  langchain-anthropic\n",
    "%pip install --upgrade --quiet  langgraph\n",
    "%pip install --upgrade --quiet  langsmith"
   ]
  },
  {
   "cell_type": "markdown",
   "metadata": {},
   "source": [
    "Let's install two additional packages to search and get transcripts for YouTube videos.\n"
   ]
  },
  {
   "cell_type": "code",
   "execution_count": 2,
   "metadata": {},
   "outputs": [
    {
     "name": "stdout",
     "output_type": "stream",
     "text": [
      "Note: you may need to restart the kernel to use updated packages.\n",
      "Note: you may need to restart the kernel to use updated packages.\n"
     ]
    }
   ],
   "source": [
    "%pip install --upgrade --quiet  youtube_search\n",
    "%pip install --upgrade --quiet  youtube_transcript_api"
   ]
  },
  {
   "cell_type": "markdown",
   "metadata": {},
   "source": [
    "Let's import the necessary packages."
   ]
  },
  {
   "cell_type": "code",
   "execution_count": 21,
   "metadata": {},
   "outputs": [],
   "source": [
    "import os\n",
    "import re\n",
    "import uuid\n",
    "from typing import Dict, List, Tuple, Annotated, TypedDict\n",
    "from langchain_anthropic import ChatAnthropic\n",
    "from langchain_core.tools import Tool\n",
    "from langchain_community.tools import YouTubeSearchTool\n",
    "from langchain_core.messages import HumanMessage, SystemMessage, AIMessage\n",
    "from langgraph.graph import StateGraph, START, END\n",
    "from langgraph.graph.message import add_messages\n",
    "from langgraph.checkpoint.memory import MemorySaver\n",
    "from langsmith import Client as LangSmithClient\n",
    "from youtube_transcript_api import YouTubeTranscriptApi\n",
    "from IPython.display import Image, display\n",
    "from langchain_core.runnables.graph import CurveStyle, MermaidDrawMethod, NodeStyles"
   ]
  },
  {
   "cell_type": "markdown",
   "metadata": {},
   "source": [
    "## 2. Environment Variables\n",
    "\n",
    "Let's set the environment variables."
   ]
  },
  {
   "cell_type": "code",
   "execution_count": 4,
   "metadata": {},
   "outputs": [],
   "source": [
    "from helpers import _set_env\n",
    "\n",
    "_set_env(\"ANTHROPIC_API_KEY\")\n",
    "_set_env(\"LANGCHAIN_API_KEY\")\n",
    "_set_env(\"LANGCHAIN_TRACING_V2\")"
   ]
  },
  {
   "cell_type": "markdown",
   "metadata": {},
   "source": [
    "## 3. LLM and Tools\n",
    "\n",
    "Let's initialize the LLM and tools that our agent will use."
   ]
  },
  {
   "cell_type": "code",
   "execution_count": 5,
   "metadata": {},
   "outputs": [],
   "source": [
    "llm = ChatAnthropic(model=\"claude-3-5-sonnet-latest\", temperature=0.7)"
   ]
  },
  {
   "cell_type": "code",
   "execution_count": 6,
   "metadata": {},
   "outputs": [],
   "source": [
    "youtube_search = YouTubeSearchTool()"
   ]
  },
  {
   "cell_type": "code",
   "execution_count": 7,
   "metadata": {},
   "outputs": [],
   "source": [
    "tools = [\n",
    "    Tool(\n",
    "        name=\"youtube_search\",\n",
    "        func=youtube_search.run,\n",
    "        description=\"Search for YouTube videos on a specific topic\"\n",
    "    )\n",
    "]"
   ]
  },
  {
   "cell_type": "markdown",
   "metadata": {},
   "source": [
    "## 4. Helper Functions\n",
    "\n",
    "Let's define two helper functions to extract the video ID from a YouTube URL and to get the transcript for a YouTube video."
   ]
  },
  {
   "cell_type": "code",
   "execution_count": 8,
   "metadata": {},
   "outputs": [],
   "source": [
    "def extract_video_id(url: str) -> str:\n",
    "    \"\"\"Extract YouTube video ID from URL.\"\"\"\n",
    "    patterns = [\n",
    "        r'(?:youtube\\.com\\/watch\\?v=|youtu.be\\/)([\\w-]+)',\n",
    "        r'v=([\\w-]+)',\n",
    "        r'^([\\w-]+)$'\n",
    "    ]\n",
    "    for pattern in patterns:\n",
    "        if match := re.search(pattern, url):\n",
    "            return match.group(1)\n",
    "    return url\n",
    "\n",
    "def get_video_transcript(video_id: str) -> str:\n",
    "    \"\"\"Get transcript for a YouTube video.\"\"\"\n",
    "    try:\n",
    "        transcript_list = YouTubeTranscriptApi.get_transcript(video_id)\n",
    "        return \" \".join(entry[\"text\"] for entry in transcript_list)\n",
    "    except Exception as e:\n",
    "        return f\"Could not fetch transcript: {str(e)}\""
   ]
  },
  {
   "cell_type": "markdown",
   "metadata": {},
   "source": [
    "## 5. Nodes\n",
    "\n",
    "Let's define the nodes that our agent will use."
   ]
  },
  {
   "cell_type": "code",
   "execution_count": 9,
   "metadata": {},
   "outputs": [],
   "source": [
    "def search_videos(state):\n",
    "    \"\"\"Node to search for YouTube videos.\"\"\"\n",
    "    messages = state[\"messages\"]\n",
    "    human_input = messages[-1].content\n",
    "    \n",
    "    # Generate search terms using LLM\n",
    "    search_prompt = f\"\"\"\n",
    "    Create 5 YouTube search terms for the following topic: {human_input} \n",
    "    The search terms should be specific and relevant to the topic.\n",
    "    If possible, the search terms should be about a recent trend on the given topic.\n",
    "    Only return the search terms separated by new lines, no other text.\n",
    "    \n",
    "    For example if the topic is \"AI\", you'd return:\n",
    "    \n",
    "    <RETURN>\n",
    "    AI\n",
    "    AI trends\n",
    "    AI technologies\n",
    "    AI applications\n",
    "    AI innovations\n",
    "    </RETURN>\n",
    "    \"\"\"\n",
    "    search_terms = llm.invoke(search_prompt).content\n",
    "    \n",
    "    print(\"🤖: Search terms:\", \", \".join(search_terms.split(\"\\n\")))\n",
    "    \n",
    "    # Search videos for each term\n",
    "    all_results = []\n",
    "    for term in search_terms.split(\"\\n\"):\n",
    "        if term.strip():\n",
    "            results = youtube_search.run(term.strip())\n",
    "            all_results.append(results)\n",
    "        \n",
    "    print(f\"🤖: Found {len(all_results)} results for the search terms\")\n",
    "    \n",
    "    return {\"messages\": messages + [SystemMessage(content=str(all_results))]}\n",
    "\n",
    "def process_videos(state):\n",
    "    \"\"\"Node to process videos and get transcripts.\"\"\"\n",
    "    messages = state[\"messages\"]\n",
    "    search_results = messages[-1].content\n",
    "    \n",
    "    # Extract video IDs and get transcripts\n",
    "    video_details = []\n",
    "    for url in re.findall(r'https://[^\\s]+', search_results):\n",
    "        video_id = extract_video_id(url)\n",
    "        if video_id:\n",
    "            transcript = get_video_transcript(video_id)\n",
    "            video_details.append({ \"url\": url, \"transcript\": transcript })\n",
    "    \n",
    "    return {\"messages\": messages + [SystemMessage(content=str(video_details))]}\n",
    "\n",
    "def create_summary(state):\n",
    "    \"\"\"Node to create research summary.\"\"\"\n",
    "    messages = state[\"messages\"]\n",
    "    video_details = messages[-1].content\n",
    "    \n",
    "    summary_prompt = \"\"\"\n",
    "    Create a detailed research summary from the given content.\n",
    "    The content is a list of YouTube videos and their transcripts.\n",
    "    \n",
    "    Include:\n",
    "    1. Executive summary (2-3 sentences)\n",
    "    2. Main findings and insights in bullet points (12-15 bullet points across 3-5 themes)\n",
    "    3. Key points and interesting remarks from each video (3-5 bullet points per video)\n",
    "    4. Citations with URLs at the bottom (You MUST include the URL in the citation)\n",
    "    \n",
    "    For each section include a title in uppercase and make sure there is an empty line before and after the title.\n",
    "    \n",
    "    Content: {video_details}\n",
    "    \"\"\"\n",
    "    \n",
    "    summary_content = llm.invoke(summary_prompt.format(video_details=video_details)).content\n",
    "    \n",
    "    return {\"messages\": messages + [SystemMessage(content=summary_content)]}"
   ]
  },
  {
   "cell_type": "markdown",
   "metadata": {},
   "source": [
    "## 6. Graph Setup\n",
    "\n",
    "Let's define the state and the workflow graph that our agent will use.\n",
    "\n",
    "The graph defines how our agent processes videos:\n",
    "1. Search for relevant videos\n",
    "2. Process videos and extract transcripts\n",
    "3. Create a final summary\n",
    "\n",
    "This uses LangGraph's `StateGraph` to manage the workflow and state transitions between different processing nodes."
   ]
  },
  {
   "cell_type": "code",
   "execution_count": 10,
   "metadata": {},
   "outputs": [],
   "source": [
    "class State(TypedDict):\n",
    "    messages: Annotated[list, add_messages]\n",
    "    \n",
    "# Create the workflow graph\n",
    "graph_builder = StateGraph(State)\n",
    "    \n",
    "# Add nodes\n",
    "graph_builder.add_node(\"search_videos\", search_videos)\n",
    "graph_builder.add_node(\"process_videos\", process_videos)\n",
    "graph_builder.add_node(\"create_summary\", create_summary)\n",
    "    \n",
    "# Define edges\n",
    "graph_builder.set_entry_point(\"search_videos\")\n",
    "graph_builder.add_edge(\"search_videos\", \"process_videos\")\n",
    "graph_builder.add_edge(\"process_videos\", \"create_summary\")\n",
    "\n",
    "# Add memory saver\n",
    "checkpointer = MemorySaver()\n",
    "\n",
    "# Compile the workflow\n",
    "graph = graph_builder.compile(checkpointer=checkpointer)"
   ]
  },
  {
   "cell_type": "markdown",
   "metadata": {},
   "source": [
    "Let's visualize the graph."
   ]
  },
  {
   "cell_type": "code",
   "execution_count": 12,
   "metadata": {},
   "outputs": [
    {
     "data": {
      "image/png": "[encoded data removed]",
      "text/plain": [
       "<IPython.core.display.Image object>"
      ]
     },
     "metadata": {},
     "output_type": "display_data"
    }
   ],
   "source": [
    "display(Image(graph.get_graph().draw_mermaid_png(draw_method=MermaidDrawMethod.API)))"
   ]
  },
  {
   "cell_type": "markdown",
   "metadata": {},
   "source": [
    "## 7. Run the agent\n",
    "\n",
    "Let's now run the agent. The user has to input a topic and the agent will provide a summary of the latest YouTube videos on that topic."
   ]
  },
  {
   "cell_type": "code",
   "execution_count": 22,
   "metadata": {},
   "outputs": [
    {
     "name": "stdout",
     "output_type": "stream",
     "text": [
      "🤖: Hi there. I can provide a summary of the latest YouTube videos on a specific topic. Let's start!\n",
      "🤖: Search terms: AGI future predictions 2024, AGI vs narrow AI explained, AGI breakthrough latest news, AGI safety concerns, AGI development timeline debate\n",
      "🤖: Found 5 results for the search terms\n",
      "🤖: Here's a detailed research summary from the provided YouTube content:\n",
      "\n",
      "EXECUTIVE SUMMARY\n",
      "Recent discussions and predictions around Artificial General Intelligence (AGI) suggest a timeline of 2027-2029 for achieving human-level AI capabilities, with significant developments expected in the interim. Industry leaders and researchers debate the implications, safety concerns, and potential societal impacts, while highlighting the need for proper governance and alignment with human values.\n",
      "\n",
      "MAIN FINDINGS AND INSIGHTS\n",
      "\n",
      "Technical Development:\n",
      "- Current AI models are considered narrow AI, with AGI development expected within 3-5 years\n",
      "- Major breakthroughs in language models (GPT-5, Claude 4) anticipated by late 2024/early 2025\n",
      "- Robotics and multimodal AI capabilities showing significant progress\n",
      "- Quantum computing and fusion technology expected to converge with AI development by 2029\n",
      "\n",
      "Safety and Regulation:\n",
      "- Growing concerns about AI alignment and control mechanisms\n",
      "- Current regulatory frameworks considered inadequate for AGI challenges\n",
      "- Need for international cooperation on AI governance\n",
      "- Debate between precautionary approach vs innovation-first mindset\n",
      "\n",
      "Societal Impact:\n",
      "- Expected disruption in employment and economic systems by 2026-2028\n",
      "- Potential shift toward post-labor economics and universal basic income\n",
      "- Healthcare transformation through AI doctors and medical breakthroughs\n",
      "- Geopolitical tensions around AI development and control\n",
      "\n",
      "Economic and Business:\n",
      "- Enterprise adoption expected to accelerate from 2025 onwards\n",
      "- Small and medium businesses leading early adoption\n",
      "- Significant investment flowing into AI development\n",
      "- Potential market consolidation among major AI companies\n",
      "\n",
      "Human-AI Interaction:\n",
      "- Evolution toward more natural human-AI interfaces\n",
      "- Growing role of AI in everyday decision-making\n",
      "- Ethical considerations around AI consciousness and rights\n",
      "- Potential for human augmentation and enhancement\n",
      "\n",
      "KEY POINTS FROM INDIVIDUAL VIDEOS\n",
      "\n",
      "Video 1: AI Development Timeline\n",
      "- GPT-5 and Claude 4 expected by late 2024\n",
      "- Enterprise-ready general purpose AI by 2026\n",
      "- AGI achievement predicted around 2027-2028\n",
      "- Significant economic disruption expected by 2028\n",
      "\n",
      "Video 2: Ray Kurzweil's Perspective\n",
      "- Maintains prediction of AGI by 2029\n",
      "- Emphasizes exponential growth in computing power\n",
      "- Discusses concept of longevity escape velocity\n",
      "- Highlights importance of brain-computer interfaces\n",
      "\n",
      "Video 3: AI Types and Capabilities\n",
      "- Distinguishes between narrow AI, AGI, and superintelligence\n",
      "- Explains reactive vs. limited memory AI\n",
      "- Discusses theory of mind and self-aware AI\n",
      "- Highlights current limitations of AI systems\n",
      "\n",
      "CITATIONS\n",
      "\n",
      "[1] \"AI Future Predictions 2024-2030\" - https://www.youtube.com/watch?v=0tI6JGNKNyA\n",
      "[2] \"Ray Kurzweil on AI Timeline\" - https://www.youtube.com/watch?v=uEztHu4NHrs\n",
      "[3] \"AGI vs Narrow AI Explained\" - https://www.youtube.com/watch?v=XFZ-rQ8eeR8\n",
      "[4] \"AI Safety Concerns\" - https://www.youtube.com/watch?v=eXdVDhOGqoE\n",
      "[5] \"AGI Development Timeline Debate\" - https://www.youtube.com/watch?v=SEkGLj0bwAU\n"
     ]
    }
   ],
   "source": [
    "print(\"🤖: Hi there. I can provide a summary of the latest YouTube videos on a specific topic. Let's start!\")\n",
    "human_input = input(\"👤 Topic: \")\n",
    "\n",
    "messages = [HumanMessage(content=human_input)]\n",
    "config = {\"run_id\": uuid.uuid4(), \"configurable\": {\"thread_id\": \"1\"}}\n",
    "result = graph.invoke({\"messages\": messages}, config)\n",
    "\n",
    "print(\"🤖:\", result[\"messages\"][-1].content)"
   ]
  },
  {
   "cell_type": "markdown",
   "metadata": {},
   "source": [
    "## 8. Analytics and metrics\n",
    "\n",
    "Let's now review the execution metrics and costs for our agent run."
   ]
  },
  {
   "cell_type": "code",
   "execution_count": 48,
   "metadata": {},
   "outputs": [
    {
     "name": "stdout",
     "output_type": "stream",
     "text": [
      "Total Tokens: 39297\n",
      "Prompt Tokens: 38489\n",
      "Completion Tokens: 808\n",
      "Execution Time: 0:00:33.887768\n"
     ]
    }
   ],
   "source": [
    "langsmith_client = LangSmithClient()\n",
    "run = next(langsmith_client.list_runs(id=[config[\"run_id\"]]))\n",
    "\n",
    "print(f\"Total Tokens: {run.total_tokens}\")\n",
    "print(f\"Prompt Tokens: {run.prompt_tokens}\")\n",
    "print(f\"Completion Tokens: {run.completion_tokens}\")\n",
    "print(f\"Execution Time: {run.end_time - run.start_time}\")\n",
    "\n",
    "# NOTE: The total cost is not available for certain models (e.g. Claude 3.5 Sonnet)\n",
    "if run.total_cost:\n",
    "    print(f\"Total Cost: ${run.total_cost:.4f}\")\n"
   ]
  }
 ],
 "metadata": {
  "kernelspec": {
   "display_name": "Python 3",
   "language": "python",
   "name": "python3"
  },
  "language_info": {
   "codemirror_mode": {
    "name": "ipython",
    "version": 3
   },
   "file_extension": ".py",
   "mimetype": "text/x-python",
   "name": "python",
   "nbconvert_exporter": "python",
   "pygments_lexer": "ipython3",
   "version": "3.11.0"
  }
 },
 "nbformat": 4,
 "nbformat_minor": 2
}
